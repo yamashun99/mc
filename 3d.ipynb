{
 "cells": [
  {
   "cell_type": "code",
   "execution_count": 15,
   "metadata": {},
   "outputs": [
    {
     "data": {
      "text/plain": [
       "f (generic function with 1 method)"
      ]
     },
     "metadata": {},
     "output_type": "display_data"
    }
   ],
   "source": [
    "function f(x,y,z)\n",
    "    return x^2+y^2+z^2\n",
    "end"
   ]
  },
  {
   "cell_type": "code",
   "execution_count": 16,
   "metadata": {},
   "outputs": [
    {
     "data": {
      "text/plain": [
       "Flatt (generic function with 1 method)"
      ]
     },
     "metadata": {},
     "output_type": "display_data"
    }
   ],
   "source": [
    "function Flatt(N)\n",
    "    F=0\n",
    "    for ix=0:N-1\n",
    "        x=ix/N\n",
    "        for iy=0:N-1\n",
    "            y=iy/N\n",
    "            for iz=0:N-1\n",
    "                z=iz/N\n",
    "                    F+=(f(ix/N,iy/N,iz/N)+f((ix+1)/N,iy/N,iz/N)+f(ix/N,(iy+1)/N,iz/N)+f((ix+1)/N,(iy+1)/N,iz/N)+f(ix/N,iy/N,(iz+1)/N)+f((ix+1)/N,iy/N,(iz+1)/N)+f(ix/N,(iy+1)/N,(iz+1)/N)+f((ix+1)/N,(iy+1)/N,(iz+1)/N))/8\n",
    "            end\n",
    "        end\n",
    "    end\n",
    "    F/=N^3\n",
    "    return F\n",
    "end"
   ]
  },
  {
   "cell_type": "code",
   "execution_count": 17,
   "metadata": {},
   "outputs": [
    {
     "data": {
      "text/plain": [
       "Fmc (generic function with 1 method)"
      ]
     },
     "metadata": {},
     "output_type": "display_data"
    }
   ],
   "source": [
    "function Fmc(N)\n",
    "    F=0\n",
    "    for ix=1:N^3\n",
    "        x=rand()\n",
    "        y=rand()\n",
    "        z=rand()\n",
    "        F+=f(x,y,z)\n",
    "    end\n",
    "    F/=N^3\n",
    "    return F\n",
    "end"
   ]
  },
  {
   "cell_type": "code",
   "execution_count": 18,
   "metadata": {},
   "outputs": [],
   "source": [
    "using Plots"
   ]
  },
  {
   "cell_type": "code",
   "execution_count": 19,
   "metadata": {},
   "outputs": [
    {
     "data": {
      "text/plain": [
       "100-element Vector{Int64}:\n",
       "   1\n",
       "   2\n",
       "   3\n",
       "   4\n",
       "   5\n",
       "   6\n",
       "   7\n",
       "   8\n",
       "   9\n",
       "  10\n",
       "   ⋮\n",
       "  92\n",
       "  93\n",
       "  94\n",
       "  95\n",
       "  96\n",
       "  97\n",
       "  98\n",
       "  99\n",
       " 100"
      ]
     },
     "metadata": {},
     "output_type": "display_data"
    }
   ],
   "source": [
    "Ns=[N for N in 1:100]"
   ]
  },
  {
   "cell_type": "code",
   "execution_count": 20,
   "metadata": {},
   "outputs": [
    {
     "data": {
      "text/plain": [
       "100-element Vector{Float64}:\n",
       " 0.5\n",
       " 0.125\n",
       " 0.05555555555555558\n",
       " 0.03125\n",
       " 0.020000000000000018\n",
       " 0.013888888888889062\n",
       " 0.010204081632651407\n",
       " 0.0078125\n",
       " 0.006172839506172423\n",
       " 0.004999999999999227\n",
       " ⋮\n",
       " 5.907372396918298e-5\n",
       " 5.7810151453008274e-5\n",
       " 5.6586690820426e-5\n",
       " 5.540166206841057e-5\n",
       " 5.425347183529716e-5\n",
       " 5.314061004235704e-5\n",
       " 5.206164099980093e-5\n",
       " 5.101520258077308e-5\n",
       " 4.9999999955696595e-5"
      ]
     },
     "metadata": {},
     "output_type": "display_data"
    }
   ],
   "source": [
    "deltalatt = [abs(Flatt(N)-1) for N in Ns]"
   ]
  },
  {
   "cell_type": "code",
   "execution_count": 21,
   "metadata": {},
   "outputs": [
    {
     "data": {
      "image/png": "[encoded data removed]",
      "image/svg+xml": "<?xml version=\"1.0\" encoding=\"utf-8\"?>\n<svg xmlns=\"http://www.w3.org/2000/svg\" xmlns:xlink=\"http://www.w3.org/1999/xlink\" width=\"600\" height=\"400\" viewBox=\"0 0 2400 1600\">\n<defs>\n  <clipPath id=\"clip090\">\n    <rect x=\"0\" y=\"0\" width=\"2400\" height=\"1600\"/>\n  </clipPath>\n</defs>\n<path clip-path=\"url(#clip090)\" d=\"\nM0 1600 L2400 1600 L2400 0 L0 0  Z\n  \" fill=\"#ffffff\" fill-rule=\"evenodd\" fill-opacity=\"1\"/>\n<defs>\n  <clipPath id=\"clip091\">\n    <rect x=\"480\" y=\"0\" width=\"1681\" height=\"1600\"/>\n  </clipPath>\n</defs>\n<path clip-path=\"url(#clip090)\" d=\"\nM186.76 1486.45 L2352.76 1486.45 L2352.76 47.2441 L186.76 47.2441  Z\n  \" fill=\"#ffffff\" fill-rule=\"evenodd\" fill-opacity=\"1\"/>\n<defs>\n  <clipPath id=\"clip092\">\n    <rect x=\"186\" y=\"47\" width=\"2167\" height=\"1440\"/>\n  </clipPath>\n</defs>\n<polyline clip-path=\"url(#clip092)\" style=\"stroke:#000000; stroke-linecap:round; stroke-linejoin:round; stroke-width:2; stroke-opacity:0.1; fill:none\" points=\"\n  186.76,1486.45 186.76,47.2441 \n  \"/>\n<polyline clip-path=\"url(#clip092)\" style=\"stroke:#000000; stroke-linecap:round; stroke-linejoin:round; stroke-width:2; stroke-opacity:0.1; fill:none\" points=\"\n  619.959,1486.45 619.959,47.2441 \n  \"/>\n<polyline clip-path=\"url(#clip092)\" style=\"stroke:#000000; stroke-linecap:round; stroke-linejoin:round; stroke-width:2; stroke-opacity:0.1; fill:none\" points=\"\n  1053.16,1486.45 1053.16,47.2441 \n  \"/>\n<polyline clip-path=\"url(#clip092)\" style=\"stroke:#000000; stroke-linecap:round; stroke-linejoin:round; stroke-width:2; stroke-opacity:0.1; fill:none\" points=\"\n  1486.36,1486.45 1486.36,47.2441 \n  \"/>\n<polyline clip-path=\"url(#clip092)\" style=\"stroke:#000000; stroke-linecap:round; stroke-linejoin:round; stroke-width:2; stroke-opacity:0.1; fill:none\" points=\"\n  1919.56,1486.45 1919.56,47.2441 \n  \"/>\n<polyline clip-path=\"url(#clip092)\" style=\"stroke:#000000; stroke-linecap:round; stroke-linejoin:round; stroke-width:2; stroke-opacity:0.1; fill:none\" points=\"\n  2352.76,1486.45 2352.76,47.2441 \n  \"/>\n<polyline clip-path=\"url(#clip090)\" style=\"stroke:#000000; stroke-linecap:round; stroke-linejoin:round; stroke-width:4; stroke-opacity:1; fill:none\" points=\"\n  186.76,1486.45 2352.76,1486.45 \n  \"/>\n<polyline clip-path=\"url(#clip090)\" style=\"stroke:#000000; stroke-linecap:round; stroke-linejoin:round; stroke-width:4; stroke-opacity:1; fill:none\" points=\"\n  186.76,1486.45 186.76,1467.55 \n  \"/>\n<polyline clip-path=\"url(#clip090)\" style=\"stroke:#000000; stroke-linecap:round; stroke-linejoin:round; stroke-width:4; stroke-opacity:1; fill:none\" points=\"\n  619.959,1486.45 619.959,1467.55 \n  \"/>\n<polyline clip-path=\"url(#clip090)\" style=\"stroke:#000000; stroke-linecap:round; stroke-linejoin:round; stroke-width:4; stroke-opacity:1; fill:none\" points=\"\n  1053.16,1486.45 1053.16,1467.55 \n  \"/>\n<polyline clip-path=\"url(#clip090)\" style=\"stroke:#000000; stroke-linecap:round; stroke-linejoin:round; stroke-width:4; stroke-opacity:1; fill:none\" points=\"\n  1486.36,1486.45 1486.36,1467.55 \n  \"/>\n<polyline clip-path=\"url(#clip090)\" style=\"stroke:#000000; stroke-linecap:round; stroke-linejoin:round; stroke-width:4; stroke-opacity:1; fill:none\" points=\"\n  1919.56,1486.45 1919.56,1467.55 \n  \"/>\n<polyline clip-path=\"url(#clip090)\" style=\"stroke:#000000; stroke-linecap:round; stroke-linejoin:round; stroke-width:4; stroke-opacity:1; fill:none\" points=\"\n  2352.76,1486.45 2352.76,1467.55 \n  \"/>\n<path clip-path=\"url(#clip090)\" d=\"M186.76 1517.37 Q183.149 1517.37 181.32 1520.93 Q179.515 1524.47 179.515 1531.6 Q179.515 1538.71 181.32 1542.27 Q183.149 1545.82 186.76 1545.82 Q190.394 1545.82 192.2 1542.27 Q194.029 1538.71 194.029 1531.6 Q194.029 1524.47 192.2 1520.93 Q190.394 1517.37 186.76 1517.37 M186.76 1513.66 Q192.57 1513.66 195.626 1518.27 Q198.704 1522.85 198.704 1531.6 Q198.704 1540.33 195.626 1544.94 Q192.57 1549.52 186.76 1549.52 Q180.95 1549.52 177.871 1544.94 Q174.816 1540.33 174.816 1531.6 Q174.816 1522.85 177.871 1518.27 Q180.95 1513.66 186.76 1513.66 Z\" fill=\"#000000\" fill-rule=\"evenodd\" fill-opacity=\"1\" /><path clip-path=\"url(#clip090)\" d=\"M614.612 1544.91 L630.931 1544.91 L630.931 1548.85 L608.987 1548.85 L608.987 1544.91 Q611.649 1542.16 616.232 1537.53 Q620.839 1532.88 622.019 1531.53 Q624.265 1529.01 625.144 1527.27 Q626.047 1525.51 626.047 1523.82 Q626.047 1521.07 624.103 1519.33 Q622.181 1517.6 619.08 1517.6 Q616.881 1517.6 614.427 1518.36 Q611.996 1519.13 609.219 1520.68 L609.219 1515.95 Q612.043 1514.82 614.496 1514.24 Q616.95 1513.66 618.987 1513.66 Q624.357 1513.66 627.552 1516.35 Q630.746 1519.03 630.746 1523.52 Q630.746 1525.65 629.936 1527.57 Q629.149 1529.47 627.043 1532.07 Q626.464 1532.74 623.362 1535.95 Q620.26 1539.15 614.612 1544.91 Z\" fill=\"#000000\" fill-rule=\"evenodd\" fill-opacity=\"1\" /><path clip-path=\"url(#clip090)\" d=\"M1056.17 1518.36 L1044.36 1536.81 L1056.17 1536.81 L1056.17 1518.36 M1054.94 1514.29 L1060.82 1514.29 L1060.82 1536.81 L1065.75 1536.81 L1065.75 1540.7 L1060.82 1540.7 L1060.82 1548.85 L1056.17 1548.85 L1056.17 1540.7 L1040.57 1540.7 L1040.57 1536.19 L1054.94 1514.29 Z\" fill=\"#000000\" fill-rule=\"evenodd\" fill-opacity=\"1\" /><path clip-path=\"url(#clip090)\" d=\"M1486.76 1529.7 Q1483.61 1529.7 1481.76 1531.86 Q1479.93 1534.01 1479.93 1537.76 Q1479.93 1541.49 1481.76 1543.66 Q1483.61 1545.82 1486.76 1545.82 Q1489.91 1545.82 1491.74 1543.66 Q1493.59 1541.49 1493.59 1537.76 Q1493.59 1534.01 1491.74 1531.86 Q1489.91 1529.7 1486.76 1529.7 M1496.05 1515.05 L1496.05 1519.31 Q1494.29 1518.48 1492.48 1518.04 Q1490.7 1517.6 1488.94 1517.6 Q1484.31 1517.6 1481.86 1520.72 Q1479.42 1523.85 1479.08 1530.17 Q1480.44 1528.15 1482.5 1527.09 Q1484.56 1526 1487.04 1526 Q1492.25 1526 1495.26 1529.17 Q1498.29 1532.32 1498.29 1537.76 Q1498.29 1543.08 1495.14 1546.3 Q1491.99 1549.52 1486.76 1549.52 Q1480.77 1549.52 1477.6 1544.94 Q1474.42 1540.33 1474.42 1531.6 Q1474.42 1523.41 1478.31 1518.55 Q1482.2 1513.66 1488.75 1513.66 Q1490.51 1513.66 1492.3 1514.01 Q1494.1 1514.36 1496.05 1515.05 Z\" fill=\"#000000\" fill-rule=\"evenodd\" fill-opacity=\"1\" /><path clip-path=\"url(#clip090)\" d=\"M1919.56 1532.44 Q1916.22 1532.44 1914.3 1534.22 Q1912.4 1536 1912.4 1539.13 Q1912.4 1542.25 1914.3 1544.03 Q1916.22 1545.82 1919.56 1545.82 Q1922.89 1545.82 1924.81 1544.03 Q1926.73 1542.23 1926.73 1539.13 Q1926.73 1536 1924.81 1534.22 Q1922.91 1532.44 1919.56 1532.44 M1914.88 1530.45 Q1911.87 1529.7 1910.18 1527.64 Q1908.52 1525.58 1908.52 1522.62 Q1908.52 1518.48 1911.45 1516.07 Q1914.42 1513.66 1919.56 1513.66 Q1924.72 1513.66 1927.66 1516.07 Q1930.6 1518.48 1930.6 1522.62 Q1930.6 1525.58 1928.91 1527.64 Q1927.24 1529.7 1924.26 1530.45 Q1927.64 1531.23 1929.51 1533.52 Q1931.41 1535.82 1931.41 1539.13 Q1931.41 1544.15 1928.33 1546.83 Q1925.27 1549.52 1919.56 1549.52 Q1913.84 1549.52 1910.76 1546.83 Q1907.7 1544.15 1907.7 1539.13 Q1907.7 1535.82 1909.6 1533.52 Q1911.5 1531.23 1914.88 1530.45 M1913.17 1523.06 Q1913.17 1525.75 1914.83 1527.25 Q1916.52 1528.76 1919.56 1528.76 Q1922.57 1528.76 1924.26 1527.25 Q1925.97 1525.75 1925.97 1523.06 Q1925.97 1520.38 1924.26 1518.87 Q1922.57 1517.37 1919.56 1517.37 Q1916.52 1517.37 1914.83 1518.87 Q1913.17 1520.38 1913.17 1523.06 Z\" fill=\"#000000\" fill-rule=\"evenodd\" fill-opacity=\"1\" /><path clip-path=\"url(#clip090)\" d=\"M2327.44 1544.91 L2335.08 1544.91 L2335.08 1518.55 L2326.77 1520.21 L2326.77 1515.95 L2335.04 1514.29 L2339.71 1514.29 L2339.71 1544.91 L2347.35 1544.91 L2347.35 1548.85 L2327.44 1548.85 L2327.44 1544.91 Z\" fill=\"#000000\" fill-rule=\"evenodd\" fill-opacity=\"1\" /><path clip-path=\"url(#clip090)\" d=\"M2366.8 1517.37 Q2363.18 1517.37 2361.36 1520.93 Q2359.55 1524.47 2359.55 1531.6 Q2359.55 1538.71 2361.36 1542.27 Q2363.18 1545.82 2366.8 1545.82 Q2370.43 1545.82 2372.23 1542.27 Q2374.06 1538.71 2374.06 1531.6 Q2374.06 1524.47 2372.23 1520.93 Q2370.43 1517.37 2366.8 1517.37 M2366.8 1513.66 Q2372.61 1513.66 2375.66 1518.27 Q2378.74 1522.85 2378.74 1531.6 Q2378.74 1540.33 2375.66 1544.94 Q2372.61 1549.52 2366.8 1549.52 Q2360.99 1549.52 2357.91 1544.94 Q2354.85 1540.33 2354.85 1531.6 Q2354.85 1522.85 2357.91 1518.27 Q2360.99 1513.66 2366.8 1513.66 Z\" fill=\"#000000\" fill-rule=\"evenodd\" fill-opacity=\"1\" /><polyline clip-path=\"url(#clip092)\" style=\"stroke:#000000; stroke-linecap:round; stroke-linejoin:round; stroke-width:2; stroke-opacity:0.1; fill:none\" points=\"\n  186.76,1486.45 2352.76,1486.45 \n  \"/>\n<polyline clip-path=\"url(#clip092)\" style=\"stroke:#000000; stroke-linecap:round; stroke-linejoin:round; stroke-width:2; stroke-opacity:0.1; fill:none\" points=\"\n  186.76,1198.61 2352.76,1198.61 \n  \"/>\n<polyline clip-path=\"url(#clip092)\" style=\"stroke:#000000; stroke-linecap:round; stroke-linejoin:round; stroke-width:2; stroke-opacity:0.1; fill:none\" points=\"\n  186.76,910.766 2352.76,910.766 \n  \"/>\n<polyline clip-path=\"url(#clip092)\" style=\"stroke:#000000; stroke-linecap:round; stroke-linejoin:round; stroke-width:2; stroke-opacity:0.1; fill:none\" points=\"\n  186.76,622.926 2352.76,622.926 \n  \"/>\n<polyline clip-path=\"url(#clip092)\" style=\"stroke:#000000; stroke-linecap:round; stroke-linejoin:round; stroke-width:2; stroke-opacity:0.1; fill:none\" points=\"\n  186.76,335.085 2352.76,335.085 \n  \"/>\n<polyline clip-path=\"url(#clip090)\" style=\"stroke:#000000; stroke-linecap:round; stroke-linejoin:round; stroke-width:4; stroke-opacity:1; fill:none\" points=\"\n  186.76,1486.45 186.76,47.2441 \n  \"/>\n<polyline clip-path=\"url(#clip090)\" style=\"stroke:#000000; stroke-linecap:round; stroke-linejoin:round; stroke-width:4; stroke-opacity:1; fill:none\" points=\"\n  186.76,1486.45 205.658,1486.45 \n  \"/>\n<polyline clip-path=\"url(#clip090)\" style=\"stroke:#000000; stroke-linecap:round; stroke-linejoin:round; stroke-width:4; stroke-opacity:1; fill:none\" points=\"\n  186.76,1198.61 205.658,1198.61 \n  \"/>\n<polyline clip-path=\"url(#clip090)\" style=\"stroke:#000000; stroke-linecap:round; stroke-linejoin:round; stroke-width:4; stroke-opacity:1; fill:none\" points=\"\n  186.76,910.766 205.658,910.766 \n  \"/>\n<polyline clip-path=\"url(#clip090)\" style=\"stroke:#000000; stroke-linecap:round; stroke-linejoin:round; stroke-width:4; stroke-opacity:1; fill:none\" points=\"\n  186.76,622.926 205.658,622.926 \n  \"/>\n<polyline clip-path=\"url(#clip090)\" style=\"stroke:#000000; stroke-linecap:round; stroke-linejoin:round; stroke-width:4; stroke-opacity:1; fill:none\" points=\"\n  186.76,335.085 205.658,335.085 \n  \"/>\n<path clip-path=\"url(#clip090)\" d=\"M63.4226 1472.25 Q59.8115 1472.25 57.9828 1475.81 Q56.1773 1479.35 56.1773 1486.48 Q56.1773 1493.59 57.9828 1497.15 Q59.8115 1500.7 63.4226 1500.7 Q67.0569 1500.7 68.8624 1497.15 Q70.6911 1493.59 70.6911 1486.48 Q70.6911 1479.35 68.8624 1475.81 Q67.0569 1472.25 63.4226 1472.25 M63.4226 1468.54 Q69.2328 1468.54 72.2883 1473.15 Q75.367 1477.73 75.367 1486.48 Q75.367 1495.21 72.2883 1499.82 Q69.2328 1504.4 63.4226 1504.4 Q57.6125 1504.4 54.5338 1499.82 Q51.4782 1495.21 51.4782 1486.48 Q51.4782 1477.73 54.5338 1473.15 Q57.6125 1468.54 63.4226 1468.54 Z\" fill=\"#000000\" fill-rule=\"evenodd\" fill-opacity=\"1\" /><path clip-path=\"url(#clip090)\" d=\"M83.5845 1497.85 L88.4688 1497.85 L88.4688 1503.73 L83.5845 1503.73 L83.5845 1497.85 Z\" fill=\"#000000\" fill-rule=\"evenodd\" fill-opacity=\"1\" /><path clip-path=\"url(#clip090)\" d=\"M108.654 1472.25 Q105.043 1472.25 103.214 1475.81 Q101.409 1479.35 101.409 1486.48 Q101.409 1493.59 103.214 1497.15 Q105.043 1500.7 108.654 1500.7 Q112.288 1500.7 114.094 1497.15 Q115.922 1493.59 115.922 1486.48 Q115.922 1479.35 114.094 1475.81 Q112.288 1472.25 108.654 1472.25 M108.654 1468.54 Q114.464 1468.54 117.52 1473.15 Q120.598 1477.73 120.598 1486.48 Q120.598 1495.21 117.52 1499.82 Q114.464 1504.4 108.654 1504.4 Q102.844 1504.4 99.765 1499.82 Q96.7095 1495.21 96.7095 1486.48 Q96.7095 1477.73 99.765 1473.15 Q102.844 1468.54 108.654 1468.54 Z\" fill=\"#000000\" fill-rule=\"evenodd\" fill-opacity=\"1\" /><path clip-path=\"url(#clip090)\" d=\"M138.816 1472.25 Q135.205 1472.25 133.376 1475.81 Q131.57 1479.35 131.57 1486.48 Q131.57 1493.59 133.376 1497.15 Q135.205 1500.7 138.816 1500.7 Q142.45 1500.7 144.256 1497.15 Q146.084 1493.59 146.084 1486.48 Q146.084 1479.35 144.256 1475.81 Q142.45 1472.25 138.816 1472.25 M138.816 1468.54 Q144.626 1468.54 147.681 1473.15 Q150.76 1477.73 150.76 1486.48 Q150.76 1495.21 147.681 1499.82 Q144.626 1504.4 138.816 1504.4 Q133.006 1504.4 129.927 1499.82 Q126.871 1495.21 126.871 1486.48 Q126.871 1477.73 129.927 1473.15 Q133.006 1468.54 138.816 1468.54 Z\" fill=\"#000000\" fill-rule=\"evenodd\" fill-opacity=\"1\" /><path clip-path=\"url(#clip090)\" d=\"M65.0198 1184.41 Q61.4087 1184.41 59.58 1187.97 Q57.7745 1191.51 57.7745 1198.64 Q57.7745 1205.75 59.58 1209.31 Q61.4087 1212.85 65.0198 1212.85 Q68.6541 1212.85 70.4596 1209.31 Q72.2883 1205.75 72.2883 1198.64 Q72.2883 1191.51 70.4596 1187.97 Q68.6541 1184.41 65.0198 1184.41 M65.0198 1180.7 Q70.83 1180.7 73.8855 1185.31 Q76.9642 1189.89 76.9642 1198.64 Q76.9642 1207.37 73.8855 1211.98 Q70.83 1216.56 65.0198 1216.56 Q59.2097 1216.56 56.131 1211.98 Q53.0754 1207.37 53.0754 1198.64 Q53.0754 1189.89 56.131 1185.31 Q59.2097 1180.7 65.0198 1180.7 Z\" fill=\"#000000\" fill-rule=\"evenodd\" fill-opacity=\"1\" /><path clip-path=\"url(#clip090)\" d=\"M85.1818 1210.01 L90.066 1210.01 L90.066 1215.89 L85.1818 1215.89 L85.1818 1210.01 Z\" fill=\"#000000\" fill-rule=\"evenodd\" fill-opacity=\"1\" /><path clip-path=\"url(#clip090)\" d=\"M110.251 1184.41 Q106.64 1184.41 104.811 1187.97 Q103.006 1191.51 103.006 1198.64 Q103.006 1205.75 104.811 1209.31 Q106.64 1212.85 110.251 1212.85 Q113.885 1212.85 115.691 1209.31 Q117.52 1205.75 117.52 1198.64 Q117.52 1191.51 115.691 1187.97 Q113.885 1184.41 110.251 1184.41 M110.251 1180.7 Q116.061 1180.7 119.117 1185.31 Q122.195 1189.89 122.195 1198.64 Q122.195 1207.37 119.117 1211.98 Q116.061 1216.56 110.251 1216.56 Q104.441 1216.56 101.362 1211.98 Q98.3067 1207.37 98.3067 1198.64 Q98.3067 1189.89 101.362 1185.31 Q104.441 1180.7 110.251 1180.7 Z\" fill=\"#000000\" fill-rule=\"evenodd\" fill-opacity=\"1\" /><path clip-path=\"url(#clip090)\" d=\"M134.441 1211.95 L150.76 1211.95 L150.76 1215.89 L128.816 1215.89 L128.816 1211.95 Q131.478 1209.2 136.061 1204.57 Q140.668 1199.91 141.848 1198.57 Q144.093 1196.05 144.973 1194.31 Q145.876 1192.55 145.876 1190.86 Q145.876 1188.11 143.931 1186.37 Q142.01 1184.64 138.908 1184.64 Q136.709 1184.64 134.256 1185.4 Q131.825 1186.17 129.047 1187.72 L129.047 1182.99 Q131.871 1181.86 134.325 1181.28 Q136.779 1180.7 138.816 1180.7 Q144.186 1180.7 147.38 1183.39 Q150.575 1186.07 150.575 1190.56 Q150.575 1192.69 149.765 1194.61 Q148.978 1196.51 146.871 1199.1 Q146.293 1199.78 143.191 1202.99 Q140.089 1206.19 134.441 1211.95 Z\" fill=\"#000000\" fill-rule=\"evenodd\" fill-opacity=\"1\" /><path clip-path=\"url(#clip090)\" d=\"M62.9365 896.565 Q59.3254 896.565 57.4967 900.13 Q55.6912 903.671 55.6912 910.801 Q55.6912 917.908 57.4967 921.472 Q59.3254 925.014 62.9365 925.014 Q66.5707 925.014 68.3763 921.472 Q70.205 917.908 70.205 910.801 Q70.205 903.671 68.3763 900.13 Q66.5707 896.565 62.9365 896.565 M62.9365 892.861 Q68.7467 892.861 71.8022 897.468 Q74.8809 902.051 74.8809 910.801 Q74.8809 919.528 71.8022 924.134 Q68.7467 928.718 62.9365 928.718 Q57.1264 928.718 54.0477 924.134 Q50.9921 919.528 50.9921 910.801 Q50.9921 902.051 54.0477 897.468 Q57.1264 892.861 62.9365 892.861 Z\" fill=\"#000000\" fill-rule=\"evenodd\" fill-opacity=\"1\" /><path clip-path=\"url(#clip090)\" d=\"M83.0984 922.167 L87.9827 922.167 L87.9827 928.046 L83.0984 928.046 L83.0984 922.167 Z\" fill=\"#000000\" fill-rule=\"evenodd\" fill-opacity=\"1\" /><path clip-path=\"url(#clip090)\" d=\"M108.168 896.565 Q104.557 896.565 102.728 900.13 Q100.922 903.671 100.922 910.801 Q100.922 917.908 102.728 921.472 Q104.557 925.014 108.168 925.014 Q111.802 925.014 113.608 921.472 Q115.436 917.908 115.436 910.801 Q115.436 903.671 113.608 900.13 Q111.802 896.565 108.168 896.565 M108.168 892.861 Q113.978 892.861 117.033 897.468 Q120.112 902.051 120.112 910.801 Q120.112 919.528 117.033 924.134 Q113.978 928.718 108.168 928.718 Q102.358 928.718 99.2789 924.134 Q96.2234 919.528 96.2234 910.801 Q96.2234 902.051 99.2789 897.468 Q102.358 892.861 108.168 892.861 Z\" fill=\"#000000\" fill-rule=\"evenodd\" fill-opacity=\"1\" /><path clip-path=\"url(#clip090)\" d=\"M141.177 897.56 L129.371 916.009 L141.177 916.009 L141.177 897.56 M139.95 893.486 L145.83 893.486 L145.83 916.009 L150.76 916.009 L150.76 919.898 L145.83 919.898 L145.83 928.046 L141.177 928.046 L141.177 919.898 L125.575 919.898 L125.575 915.384 L139.95 893.486 Z\" fill=\"#000000\" fill-rule=\"evenodd\" fill-opacity=\"1\" /><path clip-path=\"url(#clip090)\" d=\"M63.2606 608.724 Q59.6495 608.724 57.8208 612.289 Q56.0152 615.831 56.0152 622.96 Q56.0152 630.067 57.8208 633.632 Q59.6495 637.173 63.2606 637.173 Q66.8948 637.173 68.7004 633.632 Q70.5291 630.067 70.5291 622.96 Q70.5291 615.831 68.7004 612.289 Q66.8948 608.724 63.2606 608.724 M63.2606 605.021 Q69.0707 605.021 72.1263 609.627 Q75.205 614.21 75.205 622.96 Q75.205 631.687 72.1263 636.294 Q69.0707 640.877 63.2606 640.877 Q57.4504 640.877 54.3717 636.294 Q51.3162 631.687 51.3162 622.96 Q51.3162 614.21 54.3717 609.627 Q57.4504 605.021 63.2606 605.021 Z\" fill=\"#000000\" fill-rule=\"evenodd\" fill-opacity=\"1\" /><path clip-path=\"url(#clip090)\" d=\"M83.4225 634.326 L88.3067 634.326 L88.3067 640.206 L83.4225 640.206 L83.4225 634.326 Z\" fill=\"#000000\" fill-rule=\"evenodd\" fill-opacity=\"1\" /><path clip-path=\"url(#clip090)\" d=\"M108.492 608.724 Q104.881 608.724 103.052 612.289 Q101.246 615.831 101.246 622.96 Q101.246 630.067 103.052 633.632 Q104.881 637.173 108.492 637.173 Q112.126 637.173 113.932 633.632 Q115.76 630.067 115.76 622.96 Q115.76 615.831 113.932 612.289 Q112.126 608.724 108.492 608.724 M108.492 605.021 Q114.302 605.021 117.358 609.627 Q120.436 614.21 120.436 622.96 Q120.436 631.687 117.358 636.294 Q114.302 640.877 108.492 640.877 Q102.682 640.877 99.603 636.294 Q96.5474 631.687 96.5474 622.96 Q96.5474 614.21 99.603 609.627 Q102.682 605.021 108.492 605.021 Z\" fill=\"#000000\" fill-rule=\"evenodd\" fill-opacity=\"1\" /><path clip-path=\"url(#clip090)\" d=\"M139.232 621.062 Q136.084 621.062 134.232 623.215 Q132.404 625.368 132.404 629.118 Q132.404 632.845 134.232 635.02 Q136.084 637.173 139.232 637.173 Q142.381 637.173 144.209 635.02 Q146.061 632.845 146.061 629.118 Q146.061 625.368 144.209 623.215 Q142.381 621.062 139.232 621.062 M148.515 606.409 L148.515 610.669 Q146.756 609.835 144.95 609.396 Q143.168 608.956 141.408 608.956 Q136.779 608.956 134.325 612.081 Q131.894 615.206 131.547 621.525 Q132.913 619.511 134.973 618.446 Q137.033 617.359 139.51 617.359 Q144.718 617.359 147.728 620.53 Q150.76 623.678 150.76 629.118 Q150.76 634.442 147.612 637.659 Q144.464 640.877 139.232 640.877 Q133.237 640.877 130.066 636.294 Q126.894 631.687 126.894 622.96 Q126.894 614.766 130.783 609.905 Q134.672 605.021 141.223 605.021 Q142.982 605.021 144.765 605.368 Q146.57 605.715 148.515 606.409 Z\" fill=\"#000000\" fill-rule=\"evenodd\" fill-opacity=\"1\" /><path clip-path=\"url(#clip090)\" d=\"M63.5152 320.884 Q59.9041 320.884 58.0754 324.448 Q56.2699 327.99 56.2699 335.12 Q56.2699 342.226 58.0754 345.791 Q59.9041 349.332 63.5152 349.332 Q67.1494 349.332 68.955 345.791 Q70.7837 342.226 70.7837 335.12 Q70.7837 327.99 68.955 324.448 Q67.1494 320.884 63.5152 320.884 M63.5152 317.18 Q69.3254 317.18 72.3809 321.786 Q75.4596 326.37 75.4596 335.12 Q75.4596 343.846 72.3809 348.453 Q69.3254 353.036 63.5152 353.036 Q57.7051 353.036 54.6264 348.453 Q51.5708 343.846 51.5708 335.12 Q51.5708 326.37 54.6264 321.786 Q57.7051 317.18 63.5152 317.18 Z\" fill=\"#000000\" fill-rule=\"evenodd\" fill-opacity=\"1\" /><path clip-path=\"url(#clip090)\" d=\"M83.6771 346.485 L88.5614 346.485 L88.5614 352.365 L83.6771 352.365 L83.6771 346.485 Z\" fill=\"#000000\" fill-rule=\"evenodd\" fill-opacity=\"1\" /><path clip-path=\"url(#clip090)\" d=\"M108.746 320.884 Q105.135 320.884 103.307 324.448 Q101.501 327.99 101.501 335.12 Q101.501 342.226 103.307 345.791 Q105.135 349.332 108.746 349.332 Q112.381 349.332 114.186 345.791 Q116.015 342.226 116.015 335.12 Q116.015 327.99 114.186 324.448 Q112.381 320.884 108.746 320.884 M108.746 317.18 Q114.557 317.18 117.612 321.786 Q120.691 326.37 120.691 335.12 Q120.691 343.846 117.612 348.453 Q114.557 353.036 108.746 353.036 Q102.936 353.036 99.8576 348.453 Q96.8021 343.846 96.8021 335.12 Q96.8021 326.37 99.8576 321.786 Q102.936 317.18 108.746 317.18 Z\" fill=\"#000000\" fill-rule=\"evenodd\" fill-opacity=\"1\" /><path clip-path=\"url(#clip090)\" d=\"M138.908 335.953 Q135.575 335.953 133.654 337.735 Q131.756 339.518 131.756 342.643 Q131.756 345.768 133.654 347.55 Q135.575 349.332 138.908 349.332 Q142.242 349.332 144.163 347.55 Q146.084 345.745 146.084 342.643 Q146.084 339.518 144.163 337.735 Q142.265 335.953 138.908 335.953 M134.232 333.962 Q131.223 333.221 129.533 331.161 Q127.867 329.101 127.867 326.138 Q127.867 321.995 130.807 319.587 Q133.769 317.18 138.908 317.18 Q144.07 317.18 147.01 319.587 Q149.95 321.995 149.95 326.138 Q149.95 329.101 148.26 331.161 Q146.593 333.221 143.607 333.962 Q146.987 334.749 148.862 337.041 Q150.76 339.333 150.76 342.643 Q150.76 347.666 147.681 350.351 Q144.626 353.036 138.908 353.036 Q133.191 353.036 130.112 350.351 Q127.057 347.666 127.057 342.643 Q127.057 339.333 128.955 337.041 Q130.853 334.749 134.232 333.962 M132.519 326.578 Q132.519 329.263 134.186 330.768 Q135.876 332.272 138.908 332.272 Q141.918 332.272 143.607 330.768 Q145.32 329.263 145.32 326.578 Q145.32 323.893 143.607 322.388 Q141.918 320.884 138.908 320.884 Q135.876 320.884 134.186 322.388 Q132.519 323.893 132.519 326.578 Z\" fill=\"#000000\" fill-rule=\"evenodd\" fill-opacity=\"1\" /><polyline clip-path=\"url(#clip092)\" style=\"stroke:#009af9; stroke-linecap:round; stroke-linejoin:round; stroke-width:4; stroke-opacity:1; fill:none\" points=\"\n  403.36,-5709.57 619.959,-312.557 836.559,686.89 1053.16,1036.7 1269.76,1198.61 1486.36,1286.56 1702.96,1339.59 1919.56,1374.01 2136.16,1397.61 2352.76,1414.49 \n  2569.36,1426.98 2785.96,1436.48 3002.55,1443.87 3219.15,1449.73 3435.75,1454.47 3652.35,1458.34 3868.95,1461.55 4085.55,1464.24 4302.15,1466.51 4518.75,1468.46 \n  4735.35,1470.13 4951.95,1471.58 5168.55,1472.84 5385.15,1473.95 5601.75,1474.93 5818.35,1475.8 6034.95,1476.58 6251.55,1477.27 6468.15,1477.89 6684.75,1478.45 \n  6901.35,1478.96 7117.95,1479.42 7334.55,1479.84 7551.15,1480.22 7767.75,1480.57 7984.34,1480.9 8200.94,1481.19 8417.54,1481.46 8634.14,1481.72 8850.74,1481.95 \n  9067.34,1482.17 9283.94,1482.37 9500.54,1482.56 9717.14,1482.73 9933.74,1482.89 10150.3,1483.05 10366.9,1483.19 10583.5,1483.32 10800.1,1483.45 11016.7,1483.57 \n  11233.3,1483.68 11449.9,1483.79 11666.5,1483.89 11883.1,1483.98 12099.7,1484.07 12316.3,1484.15 12532.9,1484.23 12749.5,1484.31 12966.1,1484.38 13182.7,1484.45 \n  13399.3,1484.51 13615.9,1484.58 13832.5,1484.63 14049.1,1484.69 14265.7,1484.74 14482.3,1484.8 14698.9,1484.84 14915.5,1484.89 15132.1,1484.94 15348.7,1484.98 \n  15565.3,1485.02 15781.9,1485.06 15998.5,1485.1 16215.1,1485.13 16431.7,1485.17 16648.3,1485.2 16864.9,1485.23 17081.5,1485.27 17298.1,1485.29 17514.7,1485.32 \n  17731.3,1485.35 17947.9,1485.38 18164.5,1485.4 18381.1,1485.43 18597.7,1485.45 18814.3,1485.47 19030.9,1485.5 19247.5,1485.52 19464.1,1485.54 19680.7,1485.56 \n  19897.3,1485.58 20113.9,1485.6 20330.5,1485.62 20547.1,1485.63 20763.7,1485.65 20980.3,1485.67 21196.9,1485.68 21413.5,1485.7 21630.1,1485.71 21846.7,1485.73 \n  \n  \"/>\n<path clip-path=\"url(#clip090)\" d=\"\nM2011.53 198.898 L2280.56 198.898 L2280.56 95.2176 L2011.53 95.2176  Z\n  \" fill=\"#ffffff\" fill-rule=\"evenodd\" fill-opacity=\"1\"/>\n<polyline clip-path=\"url(#clip090)\" style=\"stroke:#000000; stroke-linecap:round; stroke-linejoin:round; stroke-width:4; stroke-opacity:1; fill:none\" points=\"\n  2011.53,198.898 2280.56,198.898 2280.56,95.2176 2011.53,95.2176 2011.53,198.898 \n  \"/>\n<polyline clip-path=\"url(#clip090)\" style=\"stroke:#009af9; stroke-linecap:round; stroke-linejoin:round; stroke-width:4; stroke-opacity:1; fill:none\" points=\"\n  2035.59,147.058 2179.99,147.058 \n  \"/>\n<path clip-path=\"url(#clip090)\" d=\"M2217.9 166.745 Q2216.1 171.375 2214.38 172.787 Q2212.67 174.199 2209.8 174.199 L2206.4 174.199 L2206.4 170.634 L2208.9 170.634 Q2210.66 170.634 2211.63 169.8 Q2212.6 168.967 2213.78 165.865 L2214.55 163.921 L2204.06 138.412 L2208.57 138.412 L2216.67 158.689 L2224.78 138.412 L2229.29 138.412 L2217.9 166.745 Z\" fill=\"#000000\" fill-rule=\"evenodd\" fill-opacity=\"1\" /><path clip-path=\"url(#clip090)\" d=\"M2236.58 160.402 L2244.22 160.402 L2244.22 134.037 L2235.91 135.703 L2235.91 131.444 L2244.17 129.778 L2248.85 129.778 L2248.85 160.402 L2256.49 160.402 L2256.49 164.338 L2236.58 164.338 L2236.58 160.402 Z\" fill=\"#000000\" fill-rule=\"evenodd\" fill-opacity=\"1\" /></svg>\n",
      "text/html": [
       "<?xml version=\"1.0\" encoding=\"utf-8\"?>\n",
       "<svg xmlns=\"http://www.w3.org/2000/svg\" xmlns:xlink=\"http://www.w3.org/1999/xlink\" width=\"600\" height=\"400\" viewBox=\"0 0 2400 1600\">\n",
       "<defs>\n",
       "  <clipPath id=\"clip140\">\n",
       "    <rect x=\"0\" y=\"0\" width=\"2400\" height=\"1600\"/>\n",
       "  </clipPath>\n",
       "</defs>\n",
       "<path clip-path=\"url(#clip140)\" d=\"\n",
       "M0 1600 L2400 1600 L2400 0 L0 0  Z\n",
       "  \" fill=\"#ffffff\" fill-rule=\"evenodd\" fill-opacity=\"1\"/>\n",
       "<defs>\n",
       "  <clipPath id=\"clip141\">\n",
       "    <rect x=\"480\" y=\"0\" width=\"1681\" height=\"1600\"/>\n",
       "  </clipPath>\n",
       "</defs>\n",
       "<path clip-path=\"url(#clip140)\" d=\"\n",
       "M186.76 1486.45 L2352.76 1486.45 L2352.76 47.2441 L186.76 47.2441  Z\n",
       "  \" fill=\"#ffffff\" fill-rule=\"evenodd\" fill-opacity=\"1\"/>\n",
       "<defs>\n",
       "  <clipPath id=\"clip142\">\n",
       "    <rect x=\"186\" y=\"47\" width=\"2167\" height=\"1440\"/>\n",
       "  </clipPath>\n",
       "</defs>\n",
       "<polyline clip-path=\"url(#clip142)\" style=\"stroke:#000000; stroke-linecap:round; stroke-linejoin:round; stroke-width:2; stroke-opacity:0.1; fill:none\" points=\"\n",
       "  186.76,1486.45 186.76,47.2441 \n",
       "  \"/>\n",
       "<polyline clip-path=\"url(#clip142)\" style=\"stroke:#000000; stroke-linecap:round; stroke-linejoin:round; stroke-width:2; stroke-opacity:0.1; fill:none\" points=\"\n",
       "  619.959,1486.45 619.959,47.2441 \n",
       "  \"/>\n",
       "<polyline clip-path=\"url(#clip142)\" style=\"stroke:#000000; stroke-linecap:round; stroke-linejoin:round; stroke-width:2; stroke-opacity:0.1; fill:none\" points=\"\n",
       "  1053.16,1486.45 1053.16,47.2441 \n",
       "  \"/>\n",
       "<polyline clip-path=\"url(#clip142)\" style=\"stroke:#000000; stroke-linecap:round; stroke-linejoin:round; stroke-width:2; stroke-opacity:0.1; fill:none\" points=\"\n",
       "  1486.36,1486.45 1486.36,47.2441 \n",
       "  \"/>\n",
       "<polyline clip-path=\"url(#clip142)\" style=\"stroke:#000000; stroke-linecap:round; stroke-linejoin:round; stroke-width:2; stroke-opacity:0.1; fill:none\" points=\"\n",
       "  1919.56,1486.45 1919.56,47.2441 \n",
       "  \"/>\n",
       "<polyline clip-path=\"url(#clip142)\" style=\"stroke:#000000; stroke-linecap:round; stroke-linejoin:round; stroke-width:2; stroke-opacity:0.1; fill:none\" points=\"\n",
       "  2352.76,1486.45 2352.76,47.2441 \n",
       "  \"/>\n",
       "<polyline clip-path=\"url(#clip140)\" style=\"stroke:#000000; stroke-linecap:round; stroke-linejoin:round; stroke-width:4; stroke-opacity:1; fill:none\" points=\"\n",
       "  186.76,1486.45 2352.76,1486.45 \n",
       "  \"/>\n",
       "<polyline clip-path=\"url(#clip140)\" style=\"stroke:#000000; stroke-linecap:round; stroke-linejoin:round; stroke-width:4; stroke-opacity:1; fill:none\" points=\"\n",
       "  186.76,1486.45 186.76,1467.55 \n",
       "  \"/>\n",
       "<polyline clip-path=\"url(#clip140)\" style=\"stroke:#000000; stroke-linecap:round; stroke-linejoin:round; stroke-width:4; stroke-opacity:1; fill:none\" points=\"\n",
       "  619.959,1486.45 619.959,1467.55 \n",
       "  \"/>\n",
       "<polyline clip-path=\"url(#clip140)\" style=\"stroke:#000000; stroke-linecap:round; stroke-linejoin:round; stroke-width:4; stroke-opacity:1; fill:none\" points=\"\n",
       "  1053.16,1486.45 1053.16,1467.55 \n",
       "  \"/>\n",
       "<polyline clip-path=\"url(#clip140)\" style=\"stroke:#000000; stroke-linecap:round; stroke-linejoin:round; stroke-width:4; stroke-opacity:1; fill:none\" points=\"\n",
       "  1486.36,1486.45 1486.36,1467.55 \n",
       "  \"/>\n",
       "<polyline clip-path=\"url(#clip140)\" style=\"stroke:#000000; stroke-linecap:round; stroke-linejoin:round; stroke-width:4; stroke-opacity:1; fill:none\" points=\"\n",
       "  1919.56,1486.45 1919.56,1467.55 \n",
       "  \"/>\n",
       "<polyline clip-path=\"url(#clip140)\" style=\"stroke:#000000; stroke-linecap:round; stroke-linejoin:round; stroke-width:4; stroke-opacity:1; fill:none\" points=\"\n",
       "  2352.76,1486.45 2352.76,1467.55 \n",
       "  \"/>\n",
       "<path clip-path=\"url(#clip140)\" d=\"M186.76 1517.37 Q183.149 1517.37 181.32 1520.93 Q179.515 1524.47 179.515 1531.6 Q179.515 1538.71 181.32 1542.27 Q183.149 1545.82 186.76 1545.82 Q190.394 1545.82 192.2 1542.27 Q194.029 1538.71 194.029 1531.6 Q194.029 1524.47 192.2 1520.93 Q190.394 1517.37 186.76 1517.37 M186.76 1513.66 Q192.57 1513.66 195.626 1518.27 Q198.704 1522.85 198.704 1531.6 Q198.704 1540.33 195.626 1544.94 Q192.57 1549.52 186.76 1549.52 Q180.95 1549.52 177.871 1544.94 Q174.816 1540.33 174.816 1531.6 Q174.816 1522.85 177.871 1518.27 Q180.95 1513.66 186.76 1513.66 Z\" fill=\"#000000\" fill-rule=\"evenodd\" fill-opacity=\"1\" /><path clip-path=\"url(#clip140)\" d=\"M614.612 1544.91 L630.931 1544.91 L630.931 1548.85 L608.987 1548.85 L608.987 1544.91 Q611.649 1542.16 616.232 1537.53 Q620.839 1532.88 622.019 1531.53 Q624.265 1529.01 625.144 1527.27 Q626.047 1525.51 626.047 1523.82 Q626.047 1521.07 624.103 1519.33 Q622.181 1517.6 619.08 1517.6 Q616.881 1517.6 614.427 1518.36 Q611.996 1519.13 609.219 1520.68 L609.219 1515.95 Q612.043 1514.82 614.496 1514.24 Q616.95 1513.66 618.987 1513.66 Q624.357 1513.66 627.552 1516.35 Q630.746 1519.03 630.746 1523.52 Q630.746 1525.65 629.936 1527.57 Q629.149 1529.47 627.043 1532.07 Q626.464 1532.74 623.362 1535.95 Q620.26 1539.15 614.612 1544.91 Z\" fill=\"#000000\" fill-rule=\"evenodd\" fill-opacity=\"1\" /><path clip-path=\"url(#clip140)\" d=\"M1056.17 1518.36 L1044.36 1536.81 L1056.17 1536.81 L1056.17 1518.36 M1054.94 1514.29 L1060.82 1514.29 L1060.82 1536.81 L1065.75 1536.81 L1065.75 1540.7 L1060.82 1540.7 L1060.82 1548.85 L1056.17 1548.85 L1056.17 1540.7 L1040.57 1540.7 L1040.57 1536.19 L1054.94 1514.29 Z\" fill=\"#000000\" fill-rule=\"evenodd\" fill-opacity=\"1\" /><path clip-path=\"url(#clip140)\" d=\"M1486.76 1529.7 Q1483.61 1529.7 1481.76 1531.86 Q1479.93 1534.01 1479.93 1537.76 Q1479.93 1541.49 1481.76 1543.66 Q1483.61 1545.82 1486.76 1545.82 Q1489.91 1545.82 1491.74 1543.66 Q1493.59 1541.49 1493.59 1537.76 Q1493.59 1534.01 1491.74 1531.86 Q1489.91 1529.7 1486.76 1529.7 M1496.05 1515.05 L1496.05 1519.31 Q1494.29 1518.48 1492.48 1518.04 Q1490.7 1517.6 1488.94 1517.6 Q1484.31 1517.6 1481.86 1520.72 Q1479.42 1523.85 1479.08 1530.17 Q1480.44 1528.15 1482.5 1527.09 Q1484.56 1526 1487.04 1526 Q1492.25 1526 1495.26 1529.17 Q1498.29 1532.32 1498.29 1537.76 Q1498.29 1543.08 1495.14 1546.3 Q1491.99 1549.52 1486.76 1549.52 Q1480.77 1549.52 1477.6 1544.94 Q1474.42 1540.33 1474.42 1531.6 Q1474.42 1523.41 1478.31 1518.55 Q1482.2 1513.66 1488.75 1513.66 Q1490.51 1513.66 1492.3 1514.01 Q1494.1 1514.36 1496.05 1515.05 Z\" fill=\"#000000\" fill-rule=\"evenodd\" fill-opacity=\"1\" /><path clip-path=\"url(#clip140)\" d=\"M1919.56 1532.44 Q1916.22 1532.44 1914.3 1534.22 Q1912.4 1536 1912.4 1539.13 Q1912.4 1542.25 1914.3 1544.03 Q1916.22 1545.82 1919.56 1545.82 Q1922.89 1545.82 1924.81 1544.03 Q1926.73 1542.23 1926.73 1539.13 Q1926.73 1536 1924.81 1534.22 Q1922.91 1532.44 1919.56 1532.44 M1914.88 1530.45 Q1911.87 1529.7 1910.18 1527.64 Q1908.52 1525.58 1908.52 1522.62 Q1908.52 1518.48 1911.45 1516.07 Q1914.42 1513.66 1919.56 1513.66 Q1924.72 1513.66 1927.66 1516.07 Q1930.6 1518.48 1930.6 1522.62 Q1930.6 1525.58 1928.91 1527.64 Q1927.24 1529.7 1924.26 1530.45 Q1927.64 1531.23 1929.51 1533.52 Q1931.41 1535.82 1931.41 1539.13 Q1931.41 1544.15 1928.33 1546.83 Q1925.27 1549.52 1919.56 1549.52 Q1913.84 1549.52 1910.76 1546.83 Q1907.7 1544.15 1907.7 1539.13 Q1907.7 1535.82 1909.6 1533.52 Q1911.5 1531.23 1914.88 1530.45 M1913.17 1523.06 Q1913.17 1525.75 1914.83 1527.25 Q1916.52 1528.76 1919.56 1528.76 Q1922.57 1528.76 1924.26 1527.25 Q1925.97 1525.75 1925.97 1523.06 Q1925.97 1520.38 1924.26 1518.87 Q1922.57 1517.37 1919.56 1517.37 Q1916.52 1517.37 1914.83 1518.87 Q1913.17 1520.38 1913.17 1523.06 Z\" fill=\"#000000\" fill-rule=\"evenodd\" fill-opacity=\"1\" /><path clip-path=\"url(#clip140)\" d=\"M2327.44 1544.91 L2335.08 1544.91 L2335.08 1518.55 L2326.77 1520.21 L2326.77 1515.95 L2335.04 1514.29 L2339.71 1514.29 L2339.71 1544.91 L2347.35 1544.91 L2347.35 1548.85 L2327.44 1548.85 L2327.44 1544.91 Z\" fill=\"#000000\" fill-rule=\"evenodd\" fill-opacity=\"1\" /><path clip-path=\"url(#clip140)\" d=\"M2366.8 1517.37 Q2363.18 1517.37 2361.36 1520.93 Q2359.55 1524.47 2359.55 1531.6 Q2359.55 1538.71 2361.36 1542.27 Q2363.18 1545.82 2366.8 1545.82 Q2370.43 1545.82 2372.23 1542.27 Q2374.06 1538.71 2374.06 1531.6 Q2374.06 1524.47 2372.23 1520.93 Q2370.43 1517.37 2366.8 1517.37 M2366.8 1513.66 Q2372.61 1513.66 2375.66 1518.27 Q2378.74 1522.85 2378.74 1531.6 Q2378.74 1540.33 2375.66 1544.94 Q2372.61 1549.52 2366.8 1549.52 Q2360.99 1549.52 2357.91 1544.94 Q2354.85 1540.33 2354.85 1531.6 Q2354.85 1522.85 2357.91 1518.27 Q2360.99 1513.66 2366.8 1513.66 Z\" fill=\"#000000\" fill-rule=\"evenodd\" fill-opacity=\"1\" /><polyline clip-path=\"url(#clip142)\" style=\"stroke:#000000; stroke-linecap:round; stroke-linejoin:round; stroke-width:2; stroke-opacity:0.1; fill:none\" points=\"\n",
       "  186.76,1486.45 2352.76,1486.45 \n",
       "  \"/>\n",
       "<polyline clip-path=\"url(#clip142)\" style=\"stroke:#000000; stroke-linecap:round; stroke-linejoin:round; stroke-width:2; stroke-opacity:0.1; fill:none\" points=\"\n",
       "  186.76,1198.61 2352.76,1198.61 \n",
       "  \"/>\n",
       "<polyline clip-path=\"url(#clip142)\" style=\"stroke:#000000; stroke-linecap:round; stroke-linejoin:round; stroke-width:2; stroke-opacity:0.1; fill:none\" points=\"\n",
       "  186.76,910.766 2352.76,910.766 \n",
       "  \"/>\n",
       "<polyline clip-path=\"url(#clip142)\" style=\"stroke:#000000; stroke-linecap:round; stroke-linejoin:round; stroke-width:2; stroke-opacity:0.1; fill:none\" points=\"\n",
       "  186.76,622.926 2352.76,622.926 \n",
       "  \"/>\n",
       "<polyline clip-path=\"url(#clip142)\" style=\"stroke:#000000; stroke-linecap:round; stroke-linejoin:round; stroke-width:2; stroke-opacity:0.1; fill:none\" points=\"\n",
       "  186.76,335.085 2352.76,335.085 \n",
       "  \"/>\n",
       "<polyline clip-path=\"url(#clip140)\" style=\"stroke:#000000; stroke-linecap:round; stroke-linejoin:round; stroke-width:4; stroke-opacity:1; fill:none\" points=\"\n",
       "  186.76,1486.45 186.76,47.2441 \n",
       "  \"/>\n",
       "<polyline clip-path=\"url(#clip140)\" style=\"stroke:#000000; stroke-linecap:round; stroke-linejoin:round; stroke-width:4; stroke-opacity:1; fill:none\" points=\"\n",
       "  186.76,1486.45 205.658,1486.45 \n",
       "  \"/>\n",
       "<polyline clip-path=\"url(#clip140)\" style=\"stroke:#000000; stroke-linecap:round; stroke-linejoin:round; stroke-width:4; stroke-opacity:1; fill:none\" points=\"\n",
       "  186.76,1198.61 205.658,1198.61 \n",
       "  \"/>\n",
       "<polyline clip-path=\"url(#clip140)\" style=\"stroke:#000000; stroke-linecap:round; stroke-linejoin:round; stroke-width:4; stroke-opacity:1; fill:none\" points=\"\n",
       "  186.76,910.766 205.658,910.766 \n",
       "  \"/>\n",
       "<polyline clip-path=\"url(#clip140)\" style=\"stroke:#000000; stroke-linecap:round; stroke-linejoin:round; stroke-width:4; stroke-opacity:1; fill:none\" points=\"\n",
       "  186.76,622.926 205.658,622.926 \n",
       "  \"/>\n",
       "<polyline clip-path=\"url(#clip140)\" style=\"stroke:#000000; stroke-linecap:round; stroke-linejoin:round; stroke-width:4; stroke-opacity:1; fill:none\" points=\"\n",
       "  186.76,335.085 205.658,335.085 \n",
       "  \"/>\n",
       "<path clip-path=\"url(#clip140)\" d=\"M63.4226 1472.25 Q59.8115 1472.25 57.9828 1475.81 Q56.1773 1479.35 56.1773 1486.48 Q56.1773 1493.59 57.9828 1497.15 Q59.8115 1500.7 63.4226 1500.7 Q67.0569 1500.7 68.8624 1497.15 Q70.6911 1493.59 70.6911 1486.48 Q70.6911 1479.35 68.8624 1475.81 Q67.0569 1472.25 63.4226 1472.25 M63.4226 1468.54 Q69.2328 1468.54 72.2883 1473.15 Q75.367 1477.73 75.367 1486.48 Q75.367 1495.21 72.2883 1499.82 Q69.2328 1504.4 63.4226 1504.4 Q57.6125 1504.4 54.5338 1499.82 Q51.4782 1495.21 51.4782 1486.48 Q51.4782 1477.73 54.5338 1473.15 Q57.6125 1468.54 63.4226 1468.54 Z\" fill=\"#000000\" fill-rule=\"evenodd\" fill-opacity=\"1\" /><path clip-path=\"url(#clip140)\" d=\"M83.5845 1497.85 L88.4688 1497.85 L88.4688 1503.73 L83.5845 1503.73 L83.5845 1497.85 Z\" fill=\"#000000\" fill-rule=\"evenodd\" fill-opacity=\"1\" /><path clip-path=\"url(#clip140)\" d=\"M108.654 1472.25 Q105.043 1472.25 103.214 1475.81 Q101.409 1479.35 101.409 1486.48 Q101.409 1493.59 103.214 1497.15 Q105.043 1500.7 108.654 1500.7 Q112.288 1500.7 114.094 1497.15 Q115.922 1493.59 115.922 1486.48 Q115.922 1479.35 114.094 1475.81 Q112.288 1472.25 108.654 1472.25 M108.654 1468.54 Q114.464 1468.54 117.52 1473.15 Q120.598 1477.73 120.598 1486.48 Q120.598 1495.21 117.52 1499.82 Q114.464 1504.4 108.654 1504.4 Q102.844 1504.4 99.765 1499.82 Q96.7095 1495.21 96.7095 1486.48 Q96.7095 1477.73 99.765 1473.15 Q102.844 1468.54 108.654 1468.54 Z\" fill=\"#000000\" fill-rule=\"evenodd\" fill-opacity=\"1\" /><path clip-path=\"url(#clip140)\" d=\"M138.816 1472.25 Q135.205 1472.25 133.376 1475.81 Q131.57 1479.35 131.57 1486.48 Q131.57 1493.59 133.376 1497.15 Q135.205 1500.7 138.816 1500.7 Q142.45 1500.7 144.256 1497.15 Q146.084 1493.59 146.084 1486.48 Q146.084 1479.35 144.256 1475.81 Q142.45 1472.25 138.816 1472.25 M138.816 1468.54 Q144.626 1468.54 147.681 1473.15 Q150.76 1477.73 150.76 1486.48 Q150.76 1495.21 147.681 1499.82 Q144.626 1504.4 138.816 1504.4 Q133.006 1504.4 129.927 1499.82 Q126.871 1495.21 126.871 1486.48 Q126.871 1477.73 129.927 1473.15 Q133.006 1468.54 138.816 1468.54 Z\" fill=\"#000000\" fill-rule=\"evenodd\" fill-opacity=\"1\" /><path clip-path=\"url(#clip140)\" d=\"M65.0198 1184.41 Q61.4087 1184.41 59.58 1187.97 Q57.7745 1191.51 57.7745 1198.64 Q57.7745 1205.75 59.58 1209.31 Q61.4087 1212.85 65.0198 1212.85 Q68.6541 1212.85 70.4596 1209.31 Q72.2883 1205.75 72.2883 1198.64 Q72.2883 1191.51 70.4596 1187.97 Q68.6541 1184.41 65.0198 1184.41 M65.0198 1180.7 Q70.83 1180.7 73.8855 1185.31 Q76.9642 1189.89 76.9642 1198.64 Q76.9642 1207.37 73.8855 1211.98 Q70.83 1216.56 65.0198 1216.56 Q59.2097 1216.56 56.131 1211.98 Q53.0754 1207.37 53.0754 1198.64 Q53.0754 1189.89 56.131 1185.31 Q59.2097 1180.7 65.0198 1180.7 Z\" fill=\"#000000\" fill-rule=\"evenodd\" fill-opacity=\"1\" /><path clip-path=\"url(#clip140)\" d=\"M85.1818 1210.01 L90.066 1210.01 L90.066 1215.89 L85.1818 1215.89 L85.1818 1210.01 Z\" fill=\"#000000\" fill-rule=\"evenodd\" fill-opacity=\"1\" /><path clip-path=\"url(#clip140)\" d=\"M110.251 1184.41 Q106.64 1184.41 104.811 1187.97 Q103.006 1191.51 103.006 1198.64 Q103.006 1205.75 104.811 1209.31 Q106.64 1212.85 110.251 1212.85 Q113.885 1212.85 115.691 1209.31 Q117.52 1205.75 117.52 1198.64 Q117.52 1191.51 115.691 1187.97 Q113.885 1184.41 110.251 1184.41 M110.251 1180.7 Q116.061 1180.7 119.117 1185.31 Q122.195 1189.89 122.195 1198.64 Q122.195 1207.37 119.117 1211.98 Q116.061 1216.56 110.251 1216.56 Q104.441 1216.56 101.362 1211.98 Q98.3067 1207.37 98.3067 1198.64 Q98.3067 1189.89 101.362 1185.31 Q104.441 1180.7 110.251 1180.7 Z\" fill=\"#000000\" fill-rule=\"evenodd\" fill-opacity=\"1\" /><path clip-path=\"url(#clip140)\" d=\"M134.441 1211.95 L150.76 1211.95 L150.76 1215.89 L128.816 1215.89 L128.816 1211.95 Q131.478 1209.2 136.061 1204.57 Q140.668 1199.91 141.848 1198.57 Q144.093 1196.05 144.973 1194.31 Q145.876 1192.55 145.876 1190.86 Q145.876 1188.11 143.931 1186.37 Q142.01 1184.64 138.908 1184.64 Q136.709 1184.64 134.256 1185.4 Q131.825 1186.17 129.047 1187.72 L129.047 1182.99 Q131.871 1181.86 134.325 1181.28 Q136.779 1180.7 138.816 1180.7 Q144.186 1180.7 147.38 1183.39 Q150.575 1186.07 150.575 1190.56 Q150.575 1192.69 149.765 1194.61 Q148.978 1196.51 146.871 1199.1 Q146.293 1199.78 143.191 1202.99 Q140.089 1206.19 134.441 1211.95 Z\" fill=\"#000000\" fill-rule=\"evenodd\" fill-opacity=\"1\" /><path clip-path=\"url(#clip140)\" d=\"M62.9365 896.565 Q59.3254 896.565 57.4967 900.13 Q55.6912 903.671 55.6912 910.801 Q55.6912 917.908 57.4967 921.472 Q59.3254 925.014 62.9365 925.014 Q66.5707 925.014 68.3763 921.472 Q70.205 917.908 70.205 910.801 Q70.205 903.671 68.3763 900.13 Q66.5707 896.565 62.9365 896.565 M62.9365 892.861 Q68.7467 892.861 71.8022 897.468 Q74.8809 902.051 74.8809 910.801 Q74.8809 919.528 71.8022 924.134 Q68.7467 928.718 62.9365 928.718 Q57.1264 928.718 54.0477 924.134 Q50.9921 919.528 50.9921 910.801 Q50.9921 902.051 54.0477 897.468 Q57.1264 892.861 62.9365 892.861 Z\" fill=\"#000000\" fill-rule=\"evenodd\" fill-opacity=\"1\" /><path clip-path=\"url(#clip140)\" d=\"M83.0984 922.167 L87.9827 922.167 L87.9827 928.046 L83.0984 928.046 L83.0984 922.167 Z\" fill=\"#000000\" fill-rule=\"evenodd\" fill-opacity=\"1\" /><path clip-path=\"url(#clip140)\" d=\"M108.168 896.565 Q104.557 896.565 102.728 900.13 Q100.922 903.671 100.922 910.801 Q100.922 917.908 102.728 921.472 Q104.557 925.014 108.168 925.014 Q111.802 925.014 113.608 921.472 Q115.436 917.908 115.436 910.801 Q115.436 903.671 113.608 900.13 Q111.802 896.565 108.168 896.565 M108.168 892.861 Q113.978 892.861 117.033 897.468 Q120.112 902.051 120.112 910.801 Q120.112 919.528 117.033 924.134 Q113.978 928.718 108.168 928.718 Q102.358 928.718 99.2789 924.134 Q96.2234 919.528 96.2234 910.801 Q96.2234 902.051 99.2789 897.468 Q102.358 892.861 108.168 892.861 Z\" fill=\"#000000\" fill-rule=\"evenodd\" fill-opacity=\"1\" /><path clip-path=\"url(#clip140)\" d=\"M141.177 897.56 L129.371 916.009 L141.177 916.009 L141.177 897.56 M139.95 893.486 L145.83 893.486 L145.83 916.009 L150.76 916.009 L150.76 919.898 L145.83 919.898 L145.83 928.046 L141.177 928.046 L141.177 919.898 L125.575 919.898 L125.575 915.384 L139.95 893.486 Z\" fill=\"#000000\" fill-rule=\"evenodd\" fill-opacity=\"1\" /><path clip-path=\"url(#clip140)\" d=\"M63.2606 608.724 Q59.6495 608.724 57.8208 612.289 Q56.0152 615.831 56.0152 622.96 Q56.0152 630.067 57.8208 633.632 Q59.6495 637.173 63.2606 637.173 Q66.8948 637.173 68.7004 633.632 Q70.5291 630.067 70.5291 622.96 Q70.5291 615.831 68.7004 612.289 Q66.8948 608.724 63.2606 608.724 M63.2606 605.021 Q69.0707 605.021 72.1263 609.627 Q75.205 614.21 75.205 622.96 Q75.205 631.687 72.1263 636.294 Q69.0707 640.877 63.2606 640.877 Q57.4504 640.877 54.3717 636.294 Q51.3162 631.687 51.3162 622.96 Q51.3162 614.21 54.3717 609.627 Q57.4504 605.021 63.2606 605.021 Z\" fill=\"#000000\" fill-rule=\"evenodd\" fill-opacity=\"1\" /><path clip-path=\"url(#clip140)\" d=\"M83.4225 634.326 L88.3067 634.326 L88.3067 640.206 L83.4225 640.206 L83.4225 634.326 Z\" fill=\"#000000\" fill-rule=\"evenodd\" fill-opacity=\"1\" /><path clip-path=\"url(#clip140)\" d=\"M108.492 608.724 Q104.881 608.724 103.052 612.289 Q101.246 615.831 101.246 622.96 Q101.246 630.067 103.052 633.632 Q104.881 637.173 108.492 637.173 Q112.126 637.173 113.932 633.632 Q115.76 630.067 115.76 622.96 Q115.76 615.831 113.932 612.289 Q112.126 608.724 108.492 608.724 M108.492 605.021 Q114.302 605.021 117.358 609.627 Q120.436 614.21 120.436 622.96 Q120.436 631.687 117.358 636.294 Q114.302 640.877 108.492 640.877 Q102.682 640.877 99.603 636.294 Q96.5474 631.687 96.5474 622.96 Q96.5474 614.21 99.603 609.627 Q102.682 605.021 108.492 605.021 Z\" fill=\"#000000\" fill-rule=\"evenodd\" fill-opacity=\"1\" /><path clip-path=\"url(#clip140)\" d=\"M139.232 621.062 Q136.084 621.062 134.232 623.215 Q132.404 625.368 132.404 629.118 Q132.404 632.845 134.232 635.02 Q136.084 637.173 139.232 637.173 Q142.381 637.173 144.209 635.02 Q146.061 632.845 146.061 629.118 Q146.061 625.368 144.209 623.215 Q142.381 621.062 139.232 621.062 M148.515 606.409 L148.515 610.669 Q146.756 609.835 144.95 609.396 Q143.168 608.956 141.408 608.956 Q136.779 608.956 134.325 612.081 Q131.894 615.206 131.547 621.525 Q132.913 619.511 134.973 618.446 Q137.033 617.359 139.51 617.359 Q144.718 617.359 147.728 620.53 Q150.76 623.678 150.76 629.118 Q150.76 634.442 147.612 637.659 Q144.464 640.877 139.232 640.877 Q133.237 640.877 130.066 636.294 Q126.894 631.687 126.894 622.96 Q126.894 614.766 130.783 609.905 Q134.672 605.021 141.223 605.021 Q142.982 605.021 144.765 605.368 Q146.57 605.715 148.515 606.409 Z\" fill=\"#000000\" fill-rule=\"evenodd\" fill-opacity=\"1\" /><path clip-path=\"url(#clip140)\" d=\"M63.5152 320.884 Q59.9041 320.884 58.0754 324.448 Q56.2699 327.99 56.2699 335.12 Q56.2699 342.226 58.0754 345.791 Q59.9041 349.332 63.5152 349.332 Q67.1494 349.332 68.955 345.791 Q70.7837 342.226 70.7837 335.12 Q70.7837 327.99 68.955 324.448 Q67.1494 320.884 63.5152 320.884 M63.5152 317.18 Q69.3254 317.18 72.3809 321.786 Q75.4596 326.37 75.4596 335.12 Q75.4596 343.846 72.3809 348.453 Q69.3254 353.036 63.5152 353.036 Q57.7051 353.036 54.6264 348.453 Q51.5708 343.846 51.5708 335.12 Q51.5708 326.37 54.6264 321.786 Q57.7051 317.18 63.5152 317.18 Z\" fill=\"#000000\" fill-rule=\"evenodd\" fill-opacity=\"1\" /><path clip-path=\"url(#clip140)\" d=\"M83.6771 346.485 L88.5614 346.485 L88.5614 352.365 L83.6771 352.365 L83.6771 346.485 Z\" fill=\"#000000\" fill-rule=\"evenodd\" fill-opacity=\"1\" /><path clip-path=\"url(#clip140)\" d=\"M108.746 320.884 Q105.135 320.884 103.307 324.448 Q101.501 327.99 101.501 335.12 Q101.501 342.226 103.307 345.791 Q105.135 349.332 108.746 349.332 Q112.381 349.332 114.186 345.791 Q116.015 342.226 116.015 335.12 Q116.015 327.99 114.186 324.448 Q112.381 320.884 108.746 320.884 M108.746 317.18 Q114.557 317.18 117.612 321.786 Q120.691 326.37 120.691 335.12 Q120.691 343.846 117.612 348.453 Q114.557 353.036 108.746 353.036 Q102.936 353.036 99.8576 348.453 Q96.8021 343.846 96.8021 335.12 Q96.8021 326.37 99.8576 321.786 Q102.936 317.18 108.746 317.18 Z\" fill=\"#000000\" fill-rule=\"evenodd\" fill-opacity=\"1\" /><path clip-path=\"url(#clip140)\" d=\"M138.908 335.953 Q135.575 335.953 133.654 337.735 Q131.756 339.518 131.756 342.643 Q131.756 345.768 133.654 347.55 Q135.575 349.332 138.908 349.332 Q142.242 349.332 144.163 347.55 Q146.084 345.745 146.084 342.643 Q146.084 339.518 144.163 337.735 Q142.265 335.953 138.908 335.953 M134.232 333.962 Q131.223 333.221 129.533 331.161 Q127.867 329.101 127.867 326.138 Q127.867 321.995 130.807 319.587 Q133.769 317.18 138.908 317.18 Q144.07 317.18 147.01 319.587 Q149.95 321.995 149.95 326.138 Q149.95 329.101 148.26 331.161 Q146.593 333.221 143.607 333.962 Q146.987 334.749 148.862 337.041 Q150.76 339.333 150.76 342.643 Q150.76 347.666 147.681 350.351 Q144.626 353.036 138.908 353.036 Q133.191 353.036 130.112 350.351 Q127.057 347.666 127.057 342.643 Q127.057 339.333 128.955 337.041 Q130.853 334.749 134.232 333.962 M132.519 326.578 Q132.519 329.263 134.186 330.768 Q135.876 332.272 138.908 332.272 Q141.918 332.272 143.607 330.768 Q145.32 329.263 145.32 326.578 Q145.32 323.893 143.607 322.388 Q141.918 320.884 138.908 320.884 Q135.876 320.884 134.186 322.388 Q132.519 323.893 132.519 326.578 Z\" fill=\"#000000\" fill-rule=\"evenodd\" fill-opacity=\"1\" /><polyline clip-path=\"url(#clip142)\" style=\"stroke:#009af9; stroke-linecap:round; stroke-linejoin:round; stroke-width:4; stroke-opacity:1; fill:none\" points=\"\n",
       "  403.36,-5709.57 619.959,-312.557 836.559,686.89 1053.16,1036.7 1269.76,1198.61 1486.36,1286.56 1702.96,1339.59 1919.56,1374.01 2136.16,1397.61 2352.76,1414.49 \n",
       "  2569.36,1426.98 2785.96,1436.48 3002.55,1443.87 3219.15,1449.73 3435.75,1454.47 3652.35,1458.34 3868.95,1461.55 4085.55,1464.24 4302.15,1466.51 4518.75,1468.46 \n",
       "  4735.35,1470.13 4951.95,1471.58 5168.55,1472.84 5385.15,1473.95 5601.75,1474.93 5818.35,1475.8 6034.95,1476.58 6251.55,1477.27 6468.15,1477.89 6684.75,1478.45 \n",
       "  6901.35,1478.96 7117.95,1479.42 7334.55,1479.84 7551.15,1480.22 7767.75,1480.57 7984.34,1480.9 8200.94,1481.19 8417.54,1481.46 8634.14,1481.72 8850.74,1481.95 \n",
       "  9067.34,1482.17 9283.94,1482.37 9500.54,1482.56 9717.14,1482.73 9933.74,1482.89 10150.3,1483.05 10366.9,1483.19 10583.5,1483.32 10800.1,1483.45 11016.7,1483.57 \n",
       "  11233.3,1483.68 11449.9,1483.79 11666.5,1483.89 11883.1,1483.98 12099.7,1484.07 12316.3,1484.15 12532.9,1484.23 12749.5,1484.31 12966.1,1484.38 13182.7,1484.45 \n",
       "  13399.3,1484.51 13615.9,1484.58 13832.5,1484.63 14049.1,1484.69 14265.7,1484.74 14482.3,1484.8 14698.9,1484.84 14915.5,1484.89 15132.1,1484.94 15348.7,1484.98 \n",
       "  15565.3,1485.02 15781.9,1485.06 15998.5,1485.1 16215.1,1485.13 16431.7,1485.17 16648.3,1485.2 16864.9,1485.23 17081.5,1485.27 17298.1,1485.29 17514.7,1485.32 \n",
       "  17731.3,1485.35 17947.9,1485.38 18164.5,1485.4 18381.1,1485.43 18597.7,1485.45 18814.3,1485.47 19030.9,1485.5 19247.5,1485.52 19464.1,1485.54 19680.7,1485.56 \n",
       "  19897.3,1485.58 20113.9,1485.6 20330.5,1485.62 20547.1,1485.63 20763.7,1485.65 20980.3,1485.67 21196.9,1485.68 21413.5,1485.7 21630.1,1485.71 21846.7,1485.73 \n",
       "  \n",
       "  \"/>\n",
       "<path clip-path=\"url(#clip140)\" d=\"\n",
       "M2011.53 198.898 L2280.56 198.898 L2280.56 95.2176 L2011.53 95.2176  Z\n",
       "  \" fill=\"#ffffff\" fill-rule=\"evenodd\" fill-opacity=\"1\"/>\n",
       "<polyline clip-path=\"url(#clip140)\" style=\"stroke:#000000; stroke-linecap:round; stroke-linejoin:round; stroke-width:4; stroke-opacity:1; fill:none\" points=\"\n",
       "  2011.53,198.898 2280.56,198.898 2280.56,95.2176 2011.53,95.2176 2011.53,198.898 \n",
       "  \"/>\n",
       "<polyline clip-path=\"url(#clip140)\" style=\"stroke:#009af9; stroke-linecap:round; stroke-linejoin:round; stroke-width:4; stroke-opacity:1; fill:none\" points=\"\n",
       "  2035.59,147.058 2179.99,147.058 \n",
       "  \"/>\n",
       "<path clip-path=\"url(#clip140)\" d=\"M2217.9 166.745 Q2216.1 171.375 2214.38 172.787 Q2212.67 174.199 2209.8 174.199 L2206.4 174.199 L2206.4 170.634 L2208.9 170.634 Q2210.66 170.634 2211.63 169.8 Q2212.6 168.967 2213.78 165.865 L2214.55 163.921 L2204.06 138.412 L2208.57 138.412 L2216.67 158.689 L2224.78 138.412 L2229.29 138.412 L2217.9 166.745 Z\" fill=\"#000000\" fill-rule=\"evenodd\" fill-opacity=\"1\" /><path clip-path=\"url(#clip140)\" d=\"M2236.58 160.402 L2244.22 160.402 L2244.22 134.037 L2235.91 135.703 L2235.91 131.444 L2244.17 129.778 L2248.85 129.778 L2248.85 160.402 L2256.49 160.402 L2256.49 164.338 L2236.58 164.338 L2236.58 160.402 Z\" fill=\"#000000\" fill-rule=\"evenodd\" fill-opacity=\"1\" /></svg>\n"
      ]
     },
     "metadata": {},
     "output_type": "display_data"
    }
   ],
   "source": [
    "plot(Ns,deltalatt,xlim=(0,10),ylim=(0,0.1))"
   ]
  },
  {
   "cell_type": "code",
   "execution_count": 22,
   "metadata": {},
   "outputs": [
    {
     "data": {
      "text/plain": [
       "91-element Vector{Float64}:\n",
       " -0.005707537069648438\n",
       " -0.01778387460171671\n",
       " -0.0200205504919011\n",
       " -0.019773443244466504\n",
       "  0.0017902921301642394\n",
       " -0.002046462757155587\n",
       " -0.004303716049291362\n",
       " -0.004418617613517584\n",
       "  0.003622441412403976\n",
       "  0.0003594457978646215\n",
       "  ⋮\n",
       "  4.936779404274283e-5\n",
       " -5.420886220497412e-5\n",
       "  0.00037772579586059507\n",
       "  2.4233640828486003e-5\n",
       "  0.00044746564093167684\n",
       "  0.0005817021524117116\n",
       "  0.000791499059644929\n",
       " -0.0003800083688139111\n",
       "  0.0006263943764781565"
      ]
     },
     "metadata": {},
     "output_type": "display_data"
    }
   ],
   "source": [
    "Ns=[N for N in 10:100]\n",
    "deltamc=[(Fmc(N)-1) for N in Ns]"
   ]
  },
  {
   "cell_type": "code",
   "execution_count": 23,
   "metadata": {},
   "outputs": [
    {
     "name": "stdout",
     "output_type": "stream",
     "text": []
    }
   ],
   "source": [
    "plot(Ns,deltamc)\n",
    "plot!(Ns,deltalatt)"
   ]
  },
  {
   "cell_type": "code",
   "execution_count": 24,
   "metadata": {},
   "outputs": [
    {
     "data": {
      "text/plain": [
       "sigma (generic function with 1 method)"
      ]
     },
     "metadata": {},
     "output_type": "display_data"
    }
   ],
   "source": [
    "function sigma(N,M)\n",
    "    F2=0\n",
    "    F1=0\n",
    "    for iM=1:M\n",
    "        F=Fmc(N)\n",
    "        F2+=F^2\n",
    "        F1+=F\n",
    "    end\n",
    "    F2/=M\n",
    "    F1/=M\n",
    "    return sqrt(F2-F1^2)\n",
    "end"
   ]
  },
  {
   "cell_type": "code",
   "execution_count": 25,
   "metadata": {},
   "outputs": [
    {
     "data": {
      "text/plain": [
       "100-element Vector{Float64}:\n",
       " 0.5886519966717343\n",
       " 0.1738975015952427\n",
       " 0.09541982922851018\n",
       " 0.0597432669431937\n",
       " 0.04213621815156091\n",
       " 0.03912844970998122\n",
       " 0.02452235360758043\n",
       " 0.02342856677303612\n",
       " 0.018175510090665314\n",
       " 0.018759053200326118\n",
       " ⋮\n",
       " 0.0006018953335039962\n",
       " 0.0005385118648147024\n",
       " 0.0005744763926536881\n",
       " 0.0005867374412445468\n",
       " 0.0005550126156467525\n",
       " 0.0005079381461603536\n",
       " 0.0005099098863208593\n",
       " 0.0005477745299222206\n",
       " 0.0004358473393120616"
      ]
     },
     "metadata": {},
     "output_type": "display_data"
    }
   ],
   "source": [
    "Nmcs = [i for i in 1:100]\n",
    "sigmas = [sigma(i,100) for i in Nmcs]"
   ]
  },
  {
   "cell_type": "code",
   "execution_count": 26,
   "metadata": {},
   "outputs": [
    {
     "name": "stdout",
     "output_type": "stream",
     "text": []
    }
   ],
   "source": [
    "plot(Nmcs,sigmas,ylim=(0,0.01))\n",
    "plot!(Ns,deltalatt,ylim=(0,0.01))"
   ]
  },
  {
   "cell_type": "code",
   "execution_count": 27,
   "metadata": {},
   "outputs": [],
   "source": []
  }
 ],
 "metadata": {
  "kernelspec": {
   "display_name": "Julia 1.8.3",
   "language": "julia",
   "name": "julia-1.8"
  },
  "language_info": {
   "file_extension": ".jl",
   "mimetype": "application/julia",
   "name": "julia",
   "version": "1.8.3"
  },
  "orig_nbformat": 4
 },
 "nbformat": 4,
 "nbformat_minor": 2
}
